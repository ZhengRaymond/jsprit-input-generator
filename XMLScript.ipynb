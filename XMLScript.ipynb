{
 "cells": [
  {
   "cell_type": "code",
   "execution_count": 8,
   "metadata": {
    "scrolled": true
   },
   "outputs": [
    {
     "ename": "SyntaxError",
     "evalue": "unexpected EOF while parsing (<ipython-input-8-1ac9ca0f0eae>, line 77)",
     "output_type": "error",
     "traceback": [
      "\u001b[0;36m  File \u001b[0;32m\"<ipython-input-8-1ac9ca0f0eae>\"\u001b[0;36m, line \u001b[0;32m77\u001b[0m\n\u001b[0;31m    print(MD.parseString(ET.tostring(problem, 'utf-8')).toprettyxml(indent='   '))\u001b[0m\n\u001b[0m                                                                                  ^\u001b[0m\n\u001b[0;31mSyntaxError\u001b[0m\u001b[0;31m:\u001b[0m unexpected EOF while parsing\n"
     ]
    }
   ],
   "source": [
    "import pylab\n",
    "import random\n",
    "import xml.etree.ElementTree as ET\n",
    "import xml.dom.minidom as MD\n",
    "import numpy as np\n",
    "\n",
    "f = open('lc101.txt','r')\n",
    "firstrow=f.readline()\n",
    "file=np.loadtxt('lc101.txt', skiprows=1)\n",
    "#print (firstrow)\n",
    "#print (file)\n",
    "\n",
    "problem = ET.Element('problem')\n",
    "problemType = ET.SubElement(problem,'problemType')\n",
    "fleetSize = ET.SubElement(problemType, 'fleetSize')\n",
    "fleetSize.text = 'INFINITE'\n",
    "fleetComposition = ET.SubElement(problemType, 'fleetComposition')\n",
    "fleetComposition.text = 'HOMOGENEOUS'\n",
    "vehicles = ET.SubElement(problem, 'vehicles')\n",
    "shipments = ET.SubElement(problem, 'shipments')\n",
    "\n",
    "for i in range(5):\n",
    "    # each vehicle\n",
    "    vehicle = ET.SubElement(vehicles, 'vehicle')\n",
    "    vehicle_id = ET.SubElement(vehicle, 'id')\n",
    "    vehicle_id.text = 'truck-#'+str(i)\n",
    "    vehicle_type_id = ET.SubElement(vehicle, 'typeId')\n",
    "    vehicle_type_id.text = 'solomonType'\n",
    "    location = ET.SubElement(vehicle, 'location')\n",
    "    location_id = ET.SubElement(location, 'id')\n",
    "    location_id.text = '0'\n",
    "    coord = ET.SubElement(location, 'coord', {'x':'1000', 'y':'4000'})\n",
    "    timeSchedule = ET.SubElement(vehicle, 'timeSchedule')\n",
    "    start = ET.SubElement(timeSchedule, 'start')\n",
    "    start.text = '0.0'\n",
    "    end = ET.SubElement(timeSchedule, 'end')\n",
    "    end.text = '2400.0'\n",
    "    \n",
    "for i in range(1):\n",
    "    # vehicle types\n",
    "    vehicleTypes = ET.SubElement(problem, 'vehicleTypes')\n",
    "    vehicleType = ET.SubElement(vehicleTypes, 'type')\n",
    "    id = ET.SubElement(vehicleType, 'id')\n",
    "    id.text = 'Truck'+str(i)\n",
    "    capacity = ET.SubElement(vehicleType, 'capacity')\n",
    "    capacity.text = '100'\n",
    "    costs = ET.SubElement(vehicleType, 'costs')\n",
    "    fixed = ET.SubElement(costs, 'fixed')\n",
    "    fixed.text = '0.0'\n",
    "    distance = ET.SubElement(costs, 'distance')\n",
    "    distance.text = '1.0'\n",
    "    time = ET.SubElement(costs, 'time')\n",
    "    time.text = '0.0'\n",
    "    \n",
    "for i in range(2):\n",
    "    # each shipment\n",
    "    shipment = ET.SubElement(shipments, 'shipment')\n",
    "    shipment_id = ET.SubElement(shipments, 'id')\n",
    "    shipment_id.text = 'id=\"'+str(i)+'\"'\n",
    "    shipment_type_id = ET.SubElement(shipment, 'typeId')\n",
    "    pickup = ET.SubElement(pickup, 'pickup')\n",
    "    location = ET.SubElement(shipment, 'location')\n",
    "    location_id = ET.SubElement(location, 'id')\n",
    "    location_id.text = '0'\n",
    "    coord = ET.SubElement(location, 'coord', {'x':'1000', 'y':'4000'})\n",
    "    timeWindows = ET.SubElement(shipment, 'timeWindows')\n",
    "    timeWindow = ET.SubElement(shipment, 'timeWindow')\n",
    "    start = ET.SubElement(timeSchedule, 'start')\n",
    "    start.text = '0.0'\n",
    "    end = ET.SubElement(timeSchedule, 'end')\n",
    "    end.text = '1.7976931348623157E308'\n",
    "    delivery = ET.SubElement(delivery, 'delivery')\n",
    "    location = ET.SubElement(shipment, 'location')\n",
    "    location_id = ET.SubElement(location, 'id')\n",
    "    location_id.text = '0'\n",
    "    coord = ET.SubElement(location, 'coord', {'x':\n",
    "print(MD.parseString(ET.tostring(problem, 'utf-8')).toprettyxml(indent='   '))"
   ]
  },
  {
   "cell_type": "code",
   "execution_count": null,
   "metadata": {
    "collapsed": true
   },
   "outputs": [],
   "source": []
  }
 ],
 "metadata": {
  "kernelspec": {
   "display_name": "Python 3",
   "language": "python",
   "name": "python3"
  },
  "language_info": {
   "codemirror_mode": {
    "name": "ipython",
    "version": 3
   },
   "file_extension": ".py",
   "mimetype": "text/x-python",
   "name": "python",
   "nbconvert_exporter": "python",
   "pygments_lexer": "ipython3",
   "version": "3.6.3"
  }
 },
 "nbformat": 4,
 "nbformat_minor": 2
}
